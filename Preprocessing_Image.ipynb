{
 "cells": [
  {
   "cell_type": "code",
   "execution_count": 11,
   "metadata": {
    "id": "13pG6gizZ0Le"
   },
   "outputs": [],
   "source": [
    "from matplotlib.pyplot import imread, imshow, subplots, show\n",
    "from matplotlib import pyplot as plt\n",
    "import matplotlib.image as mpimg\n",
    "import os\n",
    "import cv2\n",
    "import numpy as np\n",
    "import zipfile\n",
    "from os import listdir\n",
    "from os.path import isfile, join"
   ]
  },
  {
   "cell_type": "code",
   "execution_count": 1,
   "metadata": {
    "id": "idP_Ji_VddoC"
   },
   "outputs": [],
   "source": [
    "IMG_SIZE = 612"
   ]
  },
  {
   "cell_type": "markdown",
   "metadata": {
    "id": "mAfA7gRzZZIK"
   },
   "source": [
    "## Process Training Diabetes"
   ]
  },
  {
   "cell_type": "code",
   "execution_count": 3,
   "metadata": {
    "id": "d05xfqvWc9cA"
   },
   "outputs": [],
   "source": [
    "path_trainDIB = 'Data_Kurangi/Training/diabetes'"
   ]
  },
  {
   "cell_type": "code",
   "execution_count": 4,
   "metadata": {
    "id": "vki5MyYihqow"
   },
   "outputs": [],
   "source": [
    "n = 1\n",
    "for filename in os.listdir(path_trainDIB):\n",
    "    image_trainDIB = cv2.imread(f\"{path_trainDIB}/{filename}\")\n",
    "    image_trainDIB = cv2.cvtColor(image_trainDIB, cv2.COLOR_BGR2GRAY)\n",
    "    image_trainDIB = cv2.resize(image_trainDIB, (IMG_SIZE, IMG_SIZE))\n",
    "    image_trainDIB = cv2.addWeighted(image_trainDIB,4, cv2.GaussianBlur(image_trainDIB , (0,0) , 40) ,-4 ,128)\n",
    "    cv2.imwrite(f\"Data_Kurangi_Filter/Training/diabetes/Diabetes_{n}.png\", image_trainDIB)\n",
    "    n += 1"
   ]
  },
  {
   "cell_type": "markdown",
   "metadata": {
    "id": "QIpM892GZhyD"
   },
   "source": [
    "## Process Training Non Diabetes"
   ]
  },
  {
   "cell_type": "code",
   "execution_count": 12,
   "metadata": {
    "id": "BzaQ9kjnzxuv"
   },
   "outputs": [],
   "source": [
    "path_trainNonDIB = 'Data_Kurangi/Training/non_diabetes'"
   ]
  },
  {
   "cell_type": "code",
   "execution_count": 14,
   "metadata": {
    "id": "jFQE2qr2zzqZ"
   },
   "outputs": [],
   "source": [
    "n = 1\n",
    "for filename in os.listdir(path_trainNonDIB):\n",
    "    image_trainNonDIB = cv2.imread(f\"{path_trainNonDIB}/{filename}\")\n",
    "    image_trainNonDIB = cv2.cvtColor(image_trainNonDIB, cv2.COLOR_BGR2GRAY)\n",
    "    image_trainNonDIB = cv2.resize(image_trainNonDIB, (IMG_SIZE, IMG_SIZE))\n",
    "    image_trainNonDIB = cv2.addWeighted(image_trainNonDIB,4, cv2.GaussianBlur(image_trainNonDIB , (0,0) , 40) ,-4 ,128)\n",
    "    cv2.imwrite(f\"Data_Kurangi_Filter/Training/non_diabetes/NonDiabetes_{n}.png\", image_trainNonDIB)\n",
    "    n += 1"
   ]
  },
  {
   "cell_type": "markdown",
   "metadata": {
    "id": "oft8EOzVZh-o"
   },
   "source": [
    "## Process Testing Diabetes"
   ]
  },
  {
   "cell_type": "code",
   "execution_count": 7,
   "metadata": {},
   "outputs": [],
   "source": [
    "path_testDIB = 'Data_Kurangi/Testing/diabetes'"
   ]
  },
  {
   "cell_type": "code",
   "execution_count": 8,
   "metadata": {},
   "outputs": [],
   "source": [
    "n = 1\n",
    "for filename in os.listdir(path_testDIB):\n",
    "    image_testDIB = cv2.imread(f\"{path_testDIB}/{filename}\")\n",
    "    image_testDIB = cv2.cvtColor(image_testDIB, cv2.COLOR_BGR2GRAY)\n",
    "    image_testDIB = cv2.resize(image_testDIB, (IMG_SIZE, IMG_SIZE))\n",
    "    image_testDIB = cv2.addWeighted(image_testDIB,4, cv2.GaussianBlur(image_testDIB , (0,0) , 40) ,-4 ,128)\n",
    "    cv2.imwrite(f\"Data_Kurangi_Filter/Testing/diabetes/Diabetes_{n}.png\", image_testDIB)\n",
    "    n += 1"
   ]
  },
  {
   "cell_type": "markdown",
   "metadata": {
    "id": "UFr8g0gkZiec"
   },
   "source": [
    "## Process Testing Non Diabetes"
   ]
  },
  {
   "cell_type": "code",
   "execution_count": 9,
   "metadata": {
    "id": "_jeU_lvr4FHm"
   },
   "outputs": [],
   "source": [
    "path_testNonDIB = 'Data_Kurangi/Testing/non_diabetes'"
   ]
  },
  {
   "cell_type": "code",
   "execution_count": 10,
   "metadata": {
    "id": "Aq8VaxzW4FHn"
   },
   "outputs": [],
   "source": [
    "n = 1\n",
    "for filename in os.listdir(path_testNonDIB):\n",
    "    image_testNonDIB = cv2.imread(f\"{path_testNonDIB}/{filename}\")\n",
    "    image_testNonDIB = cv2.cvtColor(image_testNonDIB, cv2.COLOR_BGR2GRAY)\n",
    "    image_testNonDIB = cv2.resize(image_testNonDIB, (IMG_SIZE, IMG_SIZE))\n",
    "    image_testNonDIB = cv2.addWeighted(image_testNonDIB,4, cv2.GaussianBlur(image_testNonDIB , (0,0) , 40) ,-4 ,128)\n",
    "    cv2.imwrite(f\"Data_Kurangi_Filter/Testing/non_diabetes/NonDiabetes_{n}.png\", image_testNonDIB)\n",
    "    n += 1"
   ]
  },
  {
   "cell_type": "code",
   "execution_count": null,
   "metadata": {},
   "outputs": [],
   "source": [
    "4"
   ]
  }
 ],
 "metadata": {
  "colab": {
   "name": "Preprocessing_Image.ipynb",
   "provenance": []
  },
  "kernelspec": {
   "display_name": "Python 3 (ipykernel)",
   "language": "python",
   "name": "python3"
  },
  "language_info": {
   "codemirror_mode": {
    "name": "ipython",
    "version": 3
   },
   "file_extension": ".py",
   "mimetype": "text/x-python",
   "name": "python",
   "nbconvert_exporter": "python",
   "pygments_lexer": "ipython3",
   "version": "3.8.11"
  }
 },
 "nbformat": 4,
 "nbformat_minor": 1
}
